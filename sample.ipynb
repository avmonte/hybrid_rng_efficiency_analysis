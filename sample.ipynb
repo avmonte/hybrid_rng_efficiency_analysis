{
 "cells": [
  {
   "metadata": {},
   "cell_type": "markdown",
   "source": "# This is a MM Apps Final Project",
   "id": "8a77807f92f26ee"
  },
  {
   "metadata": {},
   "cell_type": "markdown",
   "source": "**Import the necessary functions**",
   "id": "ac74fa19f29649bf"
  },
  {
   "metadata": {
    "ExecuteTime": {
     "end_time": "2024-11-30T18:15:44.064339Z",
     "start_time": "2024-11-30T18:15:44.061660Z"
    }
   },
   "cell_type": "code",
   "source": [
    "from common import get_qo_arev_truly_random_number as truly_random\n",
    "from common import *\n",
    "from simulators import *"
   ],
   "id": "e462899550456558",
   "outputs": [],
   "execution_count": 213
  },
  {
   "metadata": {},
   "cell_type": "markdown",
   "source": [
    "## Pi Estimation\n",
    "\n",
    "TODO: Add description"
   ],
   "id": "359095e2bde44c55"
  },
  {
   "metadata": {
    "ExecuteTime": {
     "end_time": "2024-11-30T18:15:44.078080Z",
     "start_time": "2024-11-30T18:15:44.075900Z"
    }
   },
   "cell_type": "code",
   "source": [
    "NUM_POINTS = 100000\n",
    "NUM_RUNS = 100\n",
    "THRESHOLD = 0.01"
   ],
   "id": "77e2dd353e07e1f1",
   "outputs": [],
   "execution_count": 214
  },
  {
   "metadata": {},
   "cell_type": "markdown",
   "source": "**Regular Monte Carlo Simulation**",
   "id": "fdca4501851a7532"
  },
  {
   "metadata": {
    "ExecuteTime": {
     "end_time": "2024-11-30T18:15:44.119312Z",
     "start_time": "2024-11-30T18:15:44.089418Z"
    }
   },
   "cell_type": "code",
   "source": [
    "estimated_pi = estimate_pi(NUM_POINTS)\n",
    "accuracy = compute_accuracy(estimated_pi)\n",
    "print(f\"Estimated π: {estimated_pi}\")\n",
    "print(f\"Accuracy (difference from actual pi): {accuracy} => {accuracy:.2e}\")\n",
    "\n",
    "speed = convergence_speed(NUM_POINTS, THRESHOLD)\n",
    "print(f\"Convergence speed (iterations to reach {THRESHOLD} accuracy): {speed}\")"
   ],
   "id": "a94962e48e0df272",
   "outputs": [
    {
     "name": "stdout",
     "output_type": "stream",
     "text": [
      "Estimated π: 3.14256\n",
      "Accuracy (difference from actual pi): 0.000967346410206904 => 9.67e-04\n",
      "Convergence speed (iterations to reach 0.01 accuracy): 7000\n"
     ]
    }
   ],
   "execution_count": 215
  },
  {
   "metadata": {
    "ExecuteTime": {
     "end_time": "2024-11-30T18:15:45.746061Z",
     "start_time": "2024-11-30T18:15:44.120341Z"
    }
   },
   "cell_type": "code",
   "source": [
    "variance = compute_variance(estimate_pi, tuple([NUM_POINTS]), NUM_RUNS)\n",
    "print(f\"Variance across {NUM_RUNS} runs: {variance:.2e}\")"
   ],
   "id": "ed60e5837c644750",
   "outputs": [
    {
     "name": "stdout",
     "output_type": "stream",
     "text": [
      "Variance across 100 runs: 1.97e-31\n"
     ]
    }
   ],
   "execution_count": 216
  },
  {
   "metadata": {},
   "cell_type": "markdown",
   "source": "**Hybrid Monte Carlo Simulation**",
   "id": "ec8dac4e8548a01f"
  },
  {
   "metadata": {
    "ExecuteTime": {
     "end_time": "2024-11-30T18:15:46.074454Z",
     "start_time": "2024-11-30T18:15:45.746790Z"
    }
   },
   "cell_type": "code",
   "source": [
    "estimated_pi_hybrid = estimate_pi(NUM_POINTS, seed=truly_random())\n",
    "accuracy = compute_accuracy(estimated_pi)\n",
    "print(f\"Estimated π: {estimated_pi}\")\n",
    "print(f\"Accuracy (difference from actual pi): {accuracy} => {accuracy:.2e}\")\n",
    "\n",
    "speed = convergence_speed(NUM_POINTS, THRESHOLD, seed=truly_random())\n",
    "print(f\"Convergence speed (iterations to reach {THRESHOLD} accuracy): {speed}\")"
   ],
   "id": "6c4d6b125e5680d3",
   "outputs": [
    {
     "name": "stdout",
     "output_type": "stream",
     "text": [
      "Estimated π: 3.14256\n",
      "Accuracy (difference from actual pi): 0.000967346410206904 => 9.67e-04\n"
     ]
    }
   ],
   "execution_count": 217
  },
  {
   "metadata": {
    "ExecuteTime": {
     "end_time": "2024-11-30T18:15:47.982364Z",
     "start_time": "2024-11-30T18:15:46.075633Z"
    }
   },
   "cell_type": "code",
   "source": [
    "variance = compute_variance(estimate_pi, tuple([NUM_POINTS]), NUM_RUNS, seed=truly_random())\n",
    "print(f\"Variance across {NUM_RUNS} runs: {variance:.2e}\")"
   ],
   "id": "5303a62d01b44a8d",
   "outputs": [
    {
     "name": "stdout",
     "output_type": "stream",
     "text": [
      "Variance across 100 runs: 1.97e-31\n"
     ]
    }
   ],
   "execution_count": 218
  },
  {
   "metadata": {},
   "cell_type": "markdown",
   "source": [
    "## Buffon's Needle Simulation\n",
    "\n",
    "TODO: Add description"
   ],
   "id": "2bd6f8c00f41eb5e"
  },
  {
   "metadata": {
    "ExecuteTime": {
     "end_time": "2024-11-30T18:15:47.984771Z",
     "start_time": "2024-11-30T18:15:47.983069Z"
    }
   },
   "cell_type": "code",
   "source": [
    "NEEDLE_LENGTH = 1.0\n",
    "LINE_SPACING = 2.0\n",
    "NUM_NEEDLES = 100000\n",
    "NUM_RUNS = 100\n",
    "THRESHOLD = 0.01"
   ],
   "id": "893a5b393388c36c",
   "outputs": [],
   "execution_count": 219
  },
  {
   "metadata": {
    "ExecuteTime": {
     "end_time": "2024-11-30T18:15:48.018576Z",
     "start_time": "2024-11-30T18:15:47.985308Z"
    }
   },
   "cell_type": "code",
   "source": [
    "estimated_pi = estimate_pi_buffon(NEEDLE_LENGTH, LINE_SPACING, NUM_NEEDLES)\n",
    "accuracy = compute_accuracy(estimated_pi)\n",
    "# speed = convergence_speed(THRESHOLD)\n",
    "print(f\"Estimated π: {estimated_pi}\")\n",
    "print(f\"Accuracy (difference from actual pi): {accuracy} => {accuracy:.2e}\")\n",
    "# print(f\"Convergence speed (iterations to reach {THRESHOLD} accuracy): {speed}\")"
   ],
   "id": "a272dc25f68db1b2",
   "outputs": [
    {
     "name": "stdout",
     "output_type": "stream",
     "text": [
      "Estimated π: 3.156266767667203\n",
      "Accuracy (difference from actual pi): 0.014674114077410039 => 1.47e-02\n"
     ]
    }
   ],
   "execution_count": 220
  },
  {
   "metadata": {
    "ExecuteTime": {
     "end_time": "2024-11-30T18:15:50.921175Z",
     "start_time": "2024-11-30T18:15:48.019250Z"
    }
   },
   "cell_type": "code",
   "source": [
    "variance = compute_variance(estimate_pi_buffon, tuple([NEEDLE_LENGTH, LINE_SPACING, NUM_NEEDLES]), NUM_RUNS)\n",
    "print(f\"Variance across {NUM_RUNS} runs: {variance:.2e}\")"
   ],
   "id": "91bc511fd33eefd3",
   "outputs": [
    {
     "name": "stdout",
     "output_type": "stream",
     "text": [
      "Variance across 100 runs: 1.97e-31\n"
     ]
    }
   ],
   "execution_count": 221
  }
 ],
 "metadata": {
  "kernelspec": {
   "display_name": "Python 3",
   "language": "python",
   "name": "python3"
  },
  "language_info": {
   "codemirror_mode": {
    "name": "ipython",
    "version": 2
   },
   "file_extension": ".py",
   "mimetype": "text/x-python",
   "name": "python",
   "nbconvert_exporter": "python",
   "pygments_lexer": "ipython2",
   "version": "2.7.6"
  }
 },
 "nbformat": 4,
 "nbformat_minor": 5
}
