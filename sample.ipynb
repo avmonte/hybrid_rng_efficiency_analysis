{
 "cells": [
  {
   "metadata": {},
   "cell_type": "markdown",
   "source": [
    "# Hybrid RNGs vs. PRNGs in Monte Carlo simulations \n",
    "\n",
    "Comparison criteria\n",
    "- Accuracy\n",
    "- Convergence speed\n",
    "- Variance\n",
    "- Randomness (using statistical tests)\n",
    "\n"
   ],
   "id": "8a77807f92f26ee"
  },
  {
   "metadata": {},
   "cell_type": "markdown",
   "source": "**Import the necessary functionality**",
   "id": "ac74fa19f29649bf"
  },
  {
   "metadata": {},
   "cell_type": "code",
   "source": [
    "from scripts.common import get_qo_arev_truly_random_number as truly_random\n",
    "from scripts.simulators import *"
   ],
   "id": "e462899550456558",
   "outputs": [],
   "execution_count": null
  },
  {
   "metadata": {},
   "cell_type": "markdown",
   "source": [
    "## Pi Estimation\n",
    "\n",
    "TODO: Add description"
   ],
   "id": "359095e2bde44c55"
  },
  {
   "metadata": {},
   "cell_type": "code",
   "source": [
    "NUM_POINTS = 100000\n",
    "NUM_RUNS = 100\n",
    "THRESHOLD = 0.01"
   ],
   "id": "77e2dd353e07e1f1",
   "outputs": [],
   "execution_count": null
  },
  {
   "metadata": {},
   "cell_type": "markdown",
   "source": "**Regular Monte Carlo Simulation**",
   "id": "fdca4501851a7532"
  },
  {
   "metadata": {},
   "cell_type": "code",
   "source": "random.seed(\"truly_random()\")",
   "id": "b01cbe5e413da737",
   "outputs": [],
   "execution_count": null
  },
  {
   "metadata": {},
   "cell_type": "code",
   "source": [
    "estimated_pi = estimate_pi(NUM_POINTS)\n",
    "accuracy = compute_accuracy(estimated_pi)\n",
    "print(f\"Estimated pi: {estimated_pi}\")\n",
    "print(f\"Accuracy (difference from actual pi): {accuracy} => {accuracy:.2e}\")\n",
    "\n",
    "speed = convergence_speed(NUM_POINTS, THRESHOLD)\n",
    "print(f\"Convergence speed (iterations to reach {THRESHOLD} accuracy): {speed}\")"
   ],
   "id": "a94962e48e0df272",
   "outputs": [],
   "execution_count": null
  },
  {
   "metadata": {},
   "cell_type": "code",
   "source": [
    "variance = compute_variance(estimate_pi, tuple([NUM_POINTS]), NUM_RUNS)\n",
    "print(f\"Variance across {NUM_RUNS} runs: {variance:.2e}\")"
   ],
   "id": "ed60e5837c644750",
   "outputs": [],
   "execution_count": null
  },
  {
   "metadata": {},
   "cell_type": "markdown",
   "source": "**Hybrid Monte Carlo Simulation**",
   "id": "ec8dac4e8548a01f"
  },
  {
   "metadata": {},
   "cell_type": "code",
   "source": "random.seed(truly_random())",
   "id": "e1440f5544fe59fc",
   "outputs": [],
   "execution_count": null
  },
  {
   "metadata": {},
   "cell_type": "code",
   "source": [
    "estimated_pi_hybrid = estimate_pi(NUM_POINTS, seed=truly_random())\n",
    "accuracy = compute_accuracy(estimated_pi_hybrid)\n",
    "print(f\"Estimated pi: {estimated_pi_hybrid}\")\n",
    "print(f\"Accuracy (difference from actual pi): {accuracy} => {accuracy:.2e}\")\n",
    "\n",
    "speed = convergence_speed(NUM_POINTS, THRESHOLD, seed=truly_random())\n",
    "print(f\"Convergence speed (iterations to reach {THRESHOLD} accuracy): {speed}\")"
   ],
   "id": "6c4d6b125e5680d3",
   "outputs": [],
   "execution_count": null
  },
  {
   "metadata": {},
   "cell_type": "code",
   "source": [
    "variance = compute_variance(estimate_pi, tuple([NUM_POINTS]), NUM_RUNS)\n",
    "print(f\"Variance across {NUM_RUNS} runs: {variance:.2e}\")"
   ],
   "id": "67b02d5fe61cf0a2",
   "outputs": [],
   "execution_count": null
  },
  {
   "metadata": {},
   "cell_type": "markdown",
   "source": [
    "## Buffon's Needle Simulation\n",
    "\n",
    "TODO: Add description"
   ],
   "id": "2bd6f8c00f41eb5e"
  },
  {
   "metadata": {},
   "cell_type": "code",
   "source": [
    "NEEDLE_LENGTH = 1.0\n",
    "LINE_SPACING = 2.0\n",
    "NUM_NEEDLES = 100000\n",
    "NUM_RUNS = 100\n",
    "THRESHOLD = 0.01"
   ],
   "id": "893a5b393388c36c",
   "outputs": [],
   "execution_count": null
  },
  {
   "metadata": {},
   "cell_type": "code",
   "source": [
    "estimated_pi = estimate_pi_buffon(NEEDLE_LENGTH, LINE_SPACING, NUM_NEEDLES)\n",
    "accuracy = compute_accuracy(estimated_pi)\n",
    "print(f\"Estimated pi: {estimated_pi}\")\n",
    "print(f\"Accuracy (difference from actual pi): {accuracy} => {accuracy:.2e}\")\n",
    "\n",
    "# speed = convergence_speed(THRESHOLD)\n",
    "# print(f\"Convergence speed (iterations to reach {THRESHOLD} accuracy): {speed}\")"
   ],
   "id": "a272dc25f68db1b2",
   "outputs": [],
   "execution_count": null
  },
  {
   "metadata": {},
   "cell_type": "code",
   "source": [
    "variance = compute_variance(estimate_pi_buffon, tuple([NEEDLE_LENGTH, LINE_SPACING, NUM_NEEDLES]), NUM_RUNS)\n",
    "print(f\"Variance across {NUM_RUNS} runs: {variance:.2e}\")"
   ],
   "id": "91bc511fd33eefd3",
   "outputs": [],
   "execution_count": null
  }
 ],
 "metadata": {
  "kernelspec": {
   "display_name": "Python 3",
   "language": "python",
   "name": "python3"
  },
  "language_info": {
   "codemirror_mode": {
    "name": "ipython",
    "version": 2
   },
   "file_extension": ".py",
   "mimetype": "text/x-python",
   "name": "python",
   "nbconvert_exporter": "python",
   "pygments_lexer": "ipython2",
   "version": "2.7.6"
  }
 },
 "nbformat": 4,
 "nbformat_minor": 5
}
