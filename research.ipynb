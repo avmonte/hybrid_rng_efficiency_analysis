{
 "cells": [
  {
   "metadata": {},
   "cell_type": "markdown",
   "source": [
    "# Hybrid RNGs vs. PRNGs in Monte Carlo simulations \n",
    "\n",
    "Comparison criteria:\n",
    "- Convergence speed\n",
    "- Variance\n",
    "- Randomness (using statistical tests)\n",
    "\n"
   ],
   "id": "8a77807f92f26ee"
  },
  {
   "metadata": {},
   "cell_type": "markdown",
   "source": "**Import the necessary functionality**",
   "id": "ac74fa19f29649bf"
  },
  {
   "metadata": {},
   "cell_type": "code",
   "source": [
    "import random\n",
    "import sys\n",
    "from pathlib import Path\n",
    "sys.path.append(str(Path.cwd() / \"scripts\") )\n",
    "from scripts.common import get_qo_arev_truly_random_number as truly_random\n",
    "from scripts.common import compute_variance\n",
    "from scripts.simulators import estimate_pi, convergence_speed, estimate_pi_buffon, convergence_speed_buffon"
   ],
   "id": "e462899550456558",
   "outputs": [],
   "execution_count": null
  },
  {
   "metadata": {},
   "cell_type": "markdown",
   "source": [
    "## Pi Estimation\n",
    "\n",
    "This method estimates π by randomly sampling points within a unit square and calculating the ratio of points inside a unit circle to the total points. The ratio is proportional to π/4, allowing π to be estimated as: π = 4 × (Points inside circle / Total points). The accuracy improves with more sampled points due to the law of large numbers."
   ],
   "id": "359095e2bde44c55"
  },
  {
   "metadata": {},
   "cell_type": "code",
   "source": [
    "NUM_POINTS = 100000\n",
    "NUM_RUNS = 100\n",
    "THRESHOLD = 0.01"
   ],
   "id": "77e2dd353e07e1f1",
   "outputs": [],
   "execution_count": null
  },
  {
   "metadata": {},
   "cell_type": "markdown",
   "source": "**Regular Monte Carlo Simulation**",
   "id": "fdca4501851a7532"
  },
  {
   "metadata": {},
   "cell_type": "code",
   "source": "random.seed(\"truly_random()\")  # obviously not truly random",
   "id": "b01cbe5e413da737",
   "outputs": [],
   "execution_count": null
  },
  {
   "metadata": {},
   "cell_type": "code",
   "source": [
    "convergence_speed(NUM_POINTS, THRESHOLD, printout=True)\n",
    "compute_variance(estimate_pi, tuple([NUM_POINTS]), NUM_RUNS, printout=True)"
   ],
   "id": "ed60e5837c644750",
   "outputs": [],
   "execution_count": null
  },
  {
   "metadata": {},
   "cell_type": "markdown",
   "source": "**Hybrid Monte Carlo Simulation**",
   "id": "ec8dac4e8548a01f"
  },
  {
   "metadata": {},
   "cell_type": "code",
   "source": "random.seed(truly_random())  # uses Random.org API to get natural entropy",
   "id": "e1440f5544fe59fc",
   "outputs": [],
   "execution_count": null
  },
  {
   "metadata": {},
   "cell_type": "code",
   "source": [
    "convergence_speed(NUM_POINTS, THRESHOLD, printout=True)\n",
    "compute_variance(estimate_pi, tuple([NUM_POINTS]), NUM_RUNS, printout=True)"
   ],
   "id": "67b02d5fe61cf0a2",
   "outputs": [],
   "execution_count": null
  },
  {
   "metadata": {},
   "cell_type": "markdown",
   "source": [
    "## Buffon's Needle Simulation\n",
    "\n",
    "This section introduces an alternative method for estimating π using Buffon's Needle experiment. It simulates a scenario where a needle of length L is dropped onto a surface with parallel lines spaced D apart (L≤D). The probability of the needle crossing a line is used to estimate π."
   ],
   "id": "2bd6f8c00f41eb5e"
  },
  {
   "metadata": {},
   "cell_type": "code",
   "source": [
    "NEEDLE_LENGTH = 1.0\n",
    "LINE_SPACING = 2.0\n",
    "NUM_NEEDLES = 100000\n",
    "NUM_RUNS = 100\n",
    "THRESHOLD = 0.01\n",
    "ITERATIONS = 100"
   ],
   "id": "893a5b393388c36c",
   "outputs": [],
   "execution_count": null
  },
  {
   "metadata": {},
   "cell_type": "markdown",
   "source": "**Regular Monte Carlo Simulation**\n",
   "id": "215ddc9cacb69b27"
  },
  {
   "metadata": {},
   "cell_type": "code",
   "source": "random.seed(\"truly_random()\")  # obviously not truly random",
   "id": "d1b72c42e2475db",
   "outputs": [],
   "execution_count": null
  },
  {
   "metadata": {},
   "cell_type": "code",
   "source": [
    "convergence_speed_buffon(ITERATIONS, NEEDLE_LENGTH, LINE_SPACING, THRESHOLD)\n",
    "compute_variance(estimate_pi_buffon, tuple([NEEDLE_LENGTH, LINE_SPACING, NUM_NEEDLES]), NUM_RUNS, printout=True)"
   ],
   "id": "91bc511fd33eefd3",
   "outputs": [],
   "execution_count": null
  },
  {
   "metadata": {},
   "cell_type": "markdown",
   "source": "**Hybrid Monte Carlo Simulation**\n",
   "id": "a32171273546810a"
  },
  {
   "metadata": {},
   "cell_type": "code",
   "source": "random.seed(truly_random())  # uses Random.org API to get natural entropy",
   "id": "31d968b310d04816",
   "outputs": [],
   "execution_count": null
  },
  {
   "metadata": {},
   "cell_type": "code",
   "source": [
    "convergence_speed_buffon(ITERATIONS, NEEDLE_LENGTH, LINE_SPACING, THRESHOLD, truly_random)\n",
    "compute_variance(estimate_pi_buffon, tuple([NEEDLE_LENGTH, LINE_SPACING, NUM_NEEDLES]), NUM_RUNS, printout=True)"
   ],
   "id": "ab26ff10abe94fd1",
   "outputs": [],
   "execution_count": null
  },
  {
   "metadata": {},
   "cell_type": "markdown",
   "source": [
    "## Pivotal Point\n",
    "\n",
    "Let's now conduct a few statistical tests to compare the randomness of the two RNGs."
   ],
   "id": "92f1f86821b19b51"
  },
  {
   "metadata": {},
   "cell_type": "markdown",
   "source": "",
   "id": "91e8d4e0e3847132"
  }
 ],
 "metadata": {
  "kernelspec": {
   "display_name": "Python 3",
   "language": "python",
   "name": "python3"
  },
  "language_info": {
   "codemirror_mode": {
    "name": "ipython",
    "version": 2
   },
   "file_extension": ".py",
   "mimetype": "text/x-python",
   "name": "python",
   "nbconvert_exporter": "python",
   "pygments_lexer": "ipython2",
   "version": "2.7.6"
  }
 },
 "nbformat": 4,
 "nbformat_minor": 5
}
