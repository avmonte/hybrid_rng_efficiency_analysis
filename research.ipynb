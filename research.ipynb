{
 "cells": [
  {
   "metadata": {},
   "cell_type": "markdown",
   "source": [
    "# Hybrid RNGs vs. PRNGs in Monte Carlo simulations \n",
    "\n",
    "Comparison criteria:\n",
    "- Convergence speed\n",
    "- Variance\n",
    "- Randomness (using statistical tests)\n",
    "\n"
   ],
   "id": "8a77807f92f26ee"
  },
  {
   "metadata": {},
   "cell_type": "markdown",
   "source": "**Import the necessary functionality**",
   "id": "ac74fa19f29649bf"
  },
  {
   "metadata": {
    "ExecuteTime": {
     "end_time": "2024-12-04T10:58:20.825977Z",
     "start_time": "2024-12-04T10:58:20.039094Z"
    }
   },
   "cell_type": "code",
   "source": [
    "import sys\n",
    "from pathlib import Path\n",
    "sys.path.append(str(Path.cwd() / \"scripts\") )\n",
    "\n",
    "from scripts.common import get_qo_arev_truly_random_number as truly_random\n",
    "from scripts.simulators import estimate_pi, convergence_speed, estimate_pi_buffon, convergence_speed_buffon\n",
    "from scripts.common import perform_t_test, perform_f_test"
   ],
   "id": "e462899550456558",
   "outputs": [],
   "execution_count": 1
  },
  {
   "metadata": {},
   "cell_type": "markdown",
   "source": [
    "## Pi Estimation\n",
    "\n",
    "This method estimates π by randomly sampling points within a unit square and calculating the ratio of points inside a unit circle to the total points. The ratio is proportional to π/4, allowing π to be estimated as: π = 4 × (Points inside circle / Total points). The accuracy improves with more sampled points due to the law of large numbers."
   ],
   "id": "359095e2bde44c55"
  },
  {
   "metadata": {
    "ExecuteTime": {
     "end_time": "2024-12-04T10:58:20.829165Z",
     "start_time": "2024-12-04T10:58:20.827086Z"
    }
   },
   "cell_type": "code",
   "source": [
    "NUM_POINTS = 100000\n",
    "THRESHOLD = 0.01"
   ],
   "id": "77e2dd353e07e1f1",
   "outputs": [],
   "execution_count": 2
  },
  {
   "metadata": {},
   "cell_type": "markdown",
   "source": "**Regular Monte Carlo Simulation**",
   "id": "fdca4501851a7532"
  },
  {
   "metadata": {
    "ExecuteTime": {
     "end_time": "2024-12-04T10:58:20.856580Z",
     "start_time": "2024-12-04T10:58:20.830701Z"
    }
   },
   "cell_type": "code",
   "source": [
    "estimate_pi(NUM_POINTS)\n",
    "# convergence_speed(NUM_POINTS, THRESHOLD, printout=True)"
   ],
   "id": "ed60e5837c644750",
   "outputs": [
    {
     "data": {
      "text/plain": [
       "3.14716"
      ]
     },
     "execution_count": 3,
     "metadata": {},
     "output_type": "execute_result"
    }
   ],
   "execution_count": 3
  },
  {
   "metadata": {},
   "cell_type": "markdown",
   "source": "**Hybrid Monte Carlo Simulation**",
   "id": "ec8dac4e8548a01f"
  },
  {
   "metadata": {
    "ExecuteTime": {
     "end_time": "2024-12-04T10:58:21.142887Z",
     "start_time": "2024-12-04T10:58:20.857497Z"
    }
   },
   "cell_type": "code",
   "source": [
    "estimate_pi(NUM_POINTS, seed=truly_random())\n",
    "# convergence_speed(NUM_POINTS, THRESHOLD, printout=True)"
   ],
   "id": "67b02d5fe61cf0a2",
   "outputs": [
    {
     "data": {
      "text/plain": [
       "3.13644"
      ]
     },
     "execution_count": 4,
     "metadata": {},
     "output_type": "execute_result"
    }
   ],
   "execution_count": 4
  },
  {
   "metadata": {},
   "cell_type": "markdown",
   "source": [
    "## Buffon's Needle Simulation\n",
    "\n",
    "This section introduces an alternative method for estimating π using Buffon's Needle experiment. It simulates a scenario where a needle of length L is dropped onto a surface with parallel lines spaced D apart (L≤D). The probability of the needle crossing a line is used to estimate π."
   ],
   "id": "2bd6f8c00f41eb5e"
  },
  {
   "metadata": {
    "ExecuteTime": {
     "end_time": "2024-12-04T10:58:21.146960Z",
     "start_time": "2024-12-04T10:58:21.144857Z"
    }
   },
   "cell_type": "code",
   "source": [
    "NEEDLE_LENGTH = 1.0\n",
    "LINE_SPACING = 2.0\n",
    "NUM_NEEDLES = 100000\n",
    "\n",
    "THRESHOLD = 0.01"
   ],
   "id": "893a5b393388c36c",
   "outputs": [],
   "execution_count": 5
  },
  {
   "metadata": {},
   "cell_type": "markdown",
   "source": "**Regular Monte Carlo Simulation**\n",
   "id": "215ddc9cacb69b27"
  },
  {
   "metadata": {
    "ExecuteTime": {
     "end_time": "2024-12-04T10:58:21.186834Z",
     "start_time": "2024-12-04T10:58:21.148186Z"
    }
   },
   "cell_type": "code",
   "source": [
    "estimate_pi_buffon(NEEDLE_LENGTH, LINE_SPACING, NUM_NEEDLES)\n",
    "# convergence_speed_buffon(NUM_NEEDLES, NEEDLE_LENGTH, LINE_SPACING, THRESHOLD)"
   ],
   "id": "91bc511fd33eefd3",
   "outputs": [
    {
     "data": {
      "text/plain": [
       "3.1433690629616824"
      ]
     },
     "execution_count": 6,
     "metadata": {},
     "output_type": "execute_result"
    }
   ],
   "execution_count": 6
  },
  {
   "metadata": {},
   "cell_type": "markdown",
   "source": "**Hybrid Monte Carlo Simulation**\n",
   "id": "a32171273546810a"
  },
  {
   "metadata": {
    "ExecuteTime": {
     "end_time": "2024-12-04T10:58:21.471335Z",
     "start_time": "2024-12-04T10:58:21.187991Z"
    }
   },
   "cell_type": "code",
   "source": [
    "estimate_pi_buffon(NEEDLE_LENGTH, LINE_SPACING, NUM_NEEDLES, truly_random())\n",
    "# convergence_speed_buffon(ITERATIONS, NEEDLE_LENGTH, LINE_SPACING, THRESHOLD)"
   ],
   "id": "ab26ff10abe94fd1",
   "outputs": [
    {
     "data": {
      "text/plain": [
       "3.153977165205324"
      ]
     },
     "execution_count": 7,
     "metadata": {},
     "output_type": "execute_result"
    }
   ],
   "execution_count": 7
  },
  {
   "metadata": {},
   "cell_type": "markdown",
   "source": [
    "## Pivotal Point\n",
    "\n",
    "Let's now conduct a few statistical tests to compare the randomness of the two RNGs."
   ],
   "id": "92f1f86821b19b51"
  },
  {
   "metadata": {},
   "cell_type": "markdown",
   "source": "",
   "id": "91e8d4e0e3847132"
  },
  {
   "metadata": {
    "ExecuteTime": {
     "end_time": "2024-12-04T10:58:21.475259Z",
     "start_time": "2024-12-04T10:58:21.472522Z"
    }
   },
   "cell_type": "code",
   "source": [
    "# Monte Carlo Metadata\n",
    "NUM_POINTS = 10000\n",
    "\n",
    "# Buffon's Needle Metadata\n",
    "NEEDLE_LENGTH = 1.0\n",
    "LINE_SPACING = 2.0\n",
    "NUM_NEEDLES = 10000\n",
    "\n",
    "# Experiment Metadata\n",
    "NUM_RUNS = 100"
   ],
   "id": "21c1fbca6bed5092",
   "outputs": [],
   "execution_count": 8
  },
  {
   "metadata": {
    "ExecuteTime": {
     "end_time": "2024-12-04T10:58:22.018182Z",
     "start_time": "2024-12-04T10:58:21.476672Z"
    }
   },
   "cell_type": "code",
   "source": [
    "data_hybrid = [estimate_pi(NUM_POINTS) for _ in range(NUM_RUNS)] \n",
    "data_hybrid_buffon = [estimate_pi_buffon(NEEDLE_LENGTH, LINE_SPACING, NUM_NEEDLES) for _ in range(NUM_RUNS)]"
   ],
   "id": "bbabde13b5779d43",
   "outputs": [],
   "execution_count": 9
  },
  {
   "metadata": {
    "ExecuteTime": {
     "end_time": "2024-12-04T10:59:19.904082Z",
     "start_time": "2024-12-04T10:58:22.019393Z"
    }
   },
   "cell_type": "code",
   "source": [
    "data_pseudo = [estimate_pi(NUM_POINTS, truly_random()) for _ in range(NUM_RUNS)]\n",
    "data_pseudo_buffon = [estimate_pi_buffon(NEEDLE_LENGTH, LINE_SPACING, NUM_NEEDLES, truly_random()) for _ in range(NUM_RUNS)]"
   ],
   "id": "7fcd892db4d87742",
   "outputs": [],
   "execution_count": 10
  },
  {
   "metadata": {},
   "cell_type": "markdown",
   "source": "### Let's compare the means and variances of the two RNGs using t-test and F-test respectively.",
   "id": "4904661df50e0b6e"
  },
  {
   "metadata": {
    "ExecuteTime": {
     "end_time": "2024-12-04T10:59:19.912992Z",
     "start_time": "2024-12-04T10:59:19.904894Z"
    }
   },
   "cell_type": "code",
   "source": [
    "print(f\"Monte Carlo Mean Comparison (Pseudo vs Hybrid):\")\n",
    "perform_t_test(data_pseudo, data_hybrid)\n",
    "\n",
    "print(f\"Monte Carlo Variance Comparison (Pseudo vs Hybrid):\")\n",
    "perform_f_test(data_pseudo, data_hybrid)\n",
    "\n",
    "print(f\"Buffon's Needle Mean Comparison (Pseudo vs Hybrid):\")\n",
    "perform_t_test(data_pseudo_buffon, data_hybrid_buffon)\n",
    "\n",
    "print(f\"Buffon's Needle Variance Comparison (Pseudo vs Hybrid):\")\n",
    "perform_f_test(data_pseudo_buffon, data_hybrid_buffon)"
   ],
   "id": "eeb115961dcdcf65",
   "outputs": [
    {
     "name": "stdout",
     "output_type": "stream",
     "text": [
      "Monte Carlo Mean Comparison (Pseudo vs Hybrid):\n",
      "\tF-statistic: 1.1555, P-value: 0.2493, Decision: Fail to reject null hypothesis\n",
      "Monte Carlo Variance Comparison (Pseudo vs Hybrid):\n",
      "\tF-statistic: 1.1791, P-value: 0.2069, Decision: Fail to reject null hypothesis\n",
      "Buffon's Needle Mean Comparison (Pseudo vs Hybrid):\n",
      "\tF-statistic: 0.0580, P-value: 0.9538, Decision: Fail to reject null hypothesis\n",
      "Buffon's Needle Variance Comparison (Pseudo vs Hybrid):\n",
      "\tF-statistic: 1.2448, P-value: 0.1388, Decision: Fail to reject null hypothesis\n"
     ]
    },
    {
     "data": {
      "text/plain": [
       "(1.244830326704377, 0.13881041081873302, 'Fail to reject null hypothesis')"
      ]
     },
     "execution_count": 11,
     "metadata": {},
     "output_type": "execute_result"
    }
   ],
   "execution_count": 11
  },
  {
   "metadata": {},
   "cell_type": "markdown",
   "source": [
    "### Conclusion\n",
    "\n",
    "TODO"
   ],
   "id": "40e2005ba221b9b0"
  }
 ],
 "metadata": {
  "kernelspec": {
   "display_name": "Python 3",
   "language": "python",
   "name": "python3"
  },
  "language_info": {
   "codemirror_mode": {
    "name": "ipython",
    "version": 2
   },
   "file_extension": ".py",
   "mimetype": "text/x-python",
   "name": "python",
   "nbconvert_exporter": "python",
   "pygments_lexer": "ipython2",
   "version": "2.7.6"
  }
 },
 "nbformat": 4,
 "nbformat_minor": 5
}
